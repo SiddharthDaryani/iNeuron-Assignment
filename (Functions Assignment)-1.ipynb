{
 "cells": [
  {
   "cell_type": "code",
   "execution_count": 1,
   "metadata": {},
   "outputs": [
    {
     "data": {
      "text/plain": [
       "\"\\nA lambda function in Python is a small, anonymous function defined using the lambda keyword. \\nIt's a concise way to create functions that are often used as arguments to other functions.\\n\""
      ]
     },
     "execution_count": 1,
     "metadata": {},
     "output_type": "execute_result"
    }
   ],
   "source": [
    "# 1\n",
    "\"\"\"\n",
    "A lambda function in Python is a small, anonymous function defined using the lambda keyword. \n",
    "It's a concise way to create functions that are often used as arguments to other functions.\n",
    "\"\"\""
   ]
  },
  {
   "cell_type": "code",
   "execution_count": 2,
   "metadata": {},
   "outputs": [
    {
     "data": {
      "text/plain": [
       "14"
      ]
     },
     "execution_count": 2,
     "metadata": {},
     "output_type": "execute_result"
    }
   ],
   "source": [
    "# 2\n",
    "\"\"\"\n",
    "Yes, lambda functions in Python can have multiple arguments.\n",
    "\n",
    "You can define a lambda function with multiple arguments by separating them with commas within the parentheses. \n",
    "Here's the general syntax:\n",
    "\"\"\"\n",
    "add= lambda a,b :a+b\n",
    "add(5,9)"
   ]
  },
  {
   "cell_type": "code",
   "execution_count": 3,
   "metadata": {},
   "outputs": [
    {
     "data": {
      "text/plain": [
       "[2, 4, 6]"
      ]
     },
     "execution_count": 3,
     "metadata": {},
     "output_type": "execute_result"
    }
   ],
   "source": [
    "# 3\n",
    "\"\"\"\n",
    "Lambda functions in Python are often used in scenarios where you need a concise, anonymous function for a one-time use or as an argument to another function.\n",
    "Here is a use case:\n",
    "\"\"\"\n",
    "numbers= [1,2,3,4,5,6,7]\n",
    "even_numbers= list(filter(lambda x: x% 2== 0, numbers))\n",
    "even_numbers"
   ]
  },
  {
   "cell_type": "code",
   "execution_count": 4,
   "metadata": {},
   "outputs": [
    {
     "data": {
      "text/plain": [
       "\"\\nAdvantages of Lambda Functions\\nConciseness: Lambda functions provide a more concise syntax compared to regular functions, especially for simple expressions.\\nAnonymity: They don't require a name, making them suitable for one-time use or as arguments to other functions.\\nFlexibility: Lambda functions can be used as arguments to higher-order functions like map, filter, and reduce.\\nReadability: In some cases, lambda functions can improve code readability by making the intent more explicit.\\n\\nLimitations of Lambda Functions\\nSingle Expression: Lambda functions are limited to a single expression. If you need more complex logic, a regular function is more appropriate.\\nLack of Reusability: Since they are anonymous, lambda functions cannot be reused directly. They are typically used as part of another expression.\\nReadability: While they can improve readability in some cases, excessive use of lambda functions can make code harder to understand, especially for complex logic.\\n\""
      ]
     },
     "execution_count": 4,
     "metadata": {},
     "output_type": "execute_result"
    }
   ],
   "source": [
    "# 4\n",
    "\"\"\"\n",
    "Advantages of Lambda Functions\n",
    "Conciseness: Lambda functions provide a more concise syntax compared to regular functions, especially for simple expressions.\n",
    "Anonymity: They don't require a name, making them suitable for one-time use or as arguments to other functions.\n",
    "Flexibility: Lambda functions can be used as arguments to higher-order functions like map, filter, and reduce.\n",
    "Readability: In some cases, lambda functions can improve code readability by making the intent more explicit.\n",
    "\n",
    "Limitations of Lambda Functions\n",
    "Single Expression: Lambda functions are limited to a single expression. If you need more complex logic, a regular function is more appropriate.\n",
    "Lack of Reusability: Since they are anonymous, lambda functions cannot be reused directly. They are typically used as part of another expression.\n",
    "Readability: While they can improve readability in some cases, excessive use of lambda functions can make code harder to understand, especially for complex logic.\n",
    "\"\"\""
   ]
  },
  {
   "cell_type": "code",
   "execution_count": 5,
   "metadata": {},
   "outputs": [
    {
     "name": "stdout",
     "output_type": "stream",
     "text": [
      "15\n"
     ]
    }
   ],
   "source": [
    "# 5\n",
    "\"\"\"\n",
    "Yes, lambda functions in Python can access variables defined outside of their own scope. This is known as closure.\n",
    "\n",
    "Here's a simple example:\n",
    "\"\"\"\n",
    "x = 10\n",
    "\n",
    "my_lambda = lambda y: x + y\n",
    "\n",
    "result = my_lambda(5)\n",
    "print(result)"
   ]
  },
  {
   "cell_type": "code",
   "execution_count": 6,
   "metadata": {},
   "outputs": [
    {
     "data": {
      "text/plain": [
       "36"
      ]
     },
     "execution_count": 6,
     "metadata": {},
     "output_type": "execute_result"
    }
   ],
   "source": [
    "# 6\n",
    "my_lambda= lambda s: s**2\n",
    "result =my_lambda(6)\n",
    "result"
   ]
  },
  {
   "cell_type": "code",
   "execution_count": 7,
   "metadata": {},
   "outputs": [
    {
     "data": {
      "text/plain": [
       "22"
      ]
     },
     "execution_count": 7,
     "metadata": {},
     "output_type": "execute_result"
    }
   ],
   "source": [
    "# 7\n",
    "max_val= lambda numbers: max(numbers)\n",
    "max_val([5,2,4,8,22,4,9])"
   ]
  },
  {
   "cell_type": "code",
   "execution_count": 10,
   "metadata": {},
   "outputs": [
    {
     "data": {
      "text/plain": [
       "[1, 3, 5]"
      ]
     },
     "execution_count": 10,
     "metadata": {},
     "output_type": "execute_result"
    }
   ],
   "source": [
    "# 8\n",
    "numbers= [1,2,3,4,5,6]\n",
    "odd_val= list(filter(lambda n: n%2 != 0, numbers))\n",
    "odd_val"
   ]
  },
  {
   "cell_type": "code",
   "execution_count": 24,
   "metadata": {},
   "outputs": [
    {
     "data": {
      "text/plain": [
       "['cat', 'bowl', 'chess', 'batman', 'football']"
      ]
     },
     "execution_count": 24,
     "metadata": {},
     "output_type": "execute_result"
    }
   ],
   "source": [
    "# 9\n",
    "sort_by_length= lambda x : sorted(x,key= len)\n",
    "sort_by_length(['football','batman','bowl', 'cat','chess'])"
   ]
  },
  {
   "cell_type": "code",
   "execution_count": 25,
   "metadata": {},
   "outputs": [
    {
     "data": {
      "text/plain": [
       "['cat', 'chess', 'bowl']"
      ]
     },
     "execution_count": 25,
     "metadata": {},
     "output_type": "execute_result"
    }
   ],
   "source": [
    "# 10\n",
    "common= lambda x,y: list(set(x).intersection(set(y)))\n",
    "common(['football','batman','bowl', 'cat','chess'],['fooseball','dog','bowl', 'cat','chess'])"
   ]
  },
  {
   "cell_type": "code",
   "execution_count": 26,
   "metadata": {},
   "outputs": [
    {
     "data": {
      "text/plain": [
       "120"
      ]
     },
     "execution_count": 26,
     "metadata": {},
     "output_type": "execute_result"
    }
   ],
   "source": [
    "# 11\n",
    "def factorial(n):\n",
    "    if n == 0: # to elemenate the zero value\n",
    "        return 1\n",
    "    else:\n",
    "        return n * factorial(n-1)\n",
    "factorial(5)"
   ]
  },
  {
   "cell_type": "code",
   "execution_count": 29,
   "metadata": {},
   "outputs": [
    {
     "data": {
      "text/plain": [
       "5"
      ]
     },
     "execution_count": 29,
     "metadata": {},
     "output_type": "execute_result"
    }
   ],
   "source": [
    "# 12\n",
    "def fibonacci(n):\n",
    "    if n <= 1: \n",
    "        return n\n",
    "    else:\n",
    "        return fibonacci(n-1) + fibonacci(n -2)\n",
    "fibonacci(5)"
   ]
  },
  {
   "cell_type": "code",
   "execution_count": 32,
   "metadata": {},
   "outputs": [
    {
     "data": {
      "text/plain": [
       "11"
      ]
     },
     "execution_count": 32,
     "metadata": {},
     "output_type": "execute_result"
    }
   ],
   "source": [
    "# 13\n",
    "def sum_list(l:list):\n",
    "    if not l:\n",
    "        return 0\n",
    "    else:\n",
    "        return l[0]+sum_list(l[1:])\n",
    "sum_list([5,6])"
   ]
  },
  {
   "cell_type": "code",
   "execution_count": 34,
   "metadata": {},
   "outputs": [
    {
     "name": "stdout",
     "output_type": "stream",
     "text": [
      "True\n",
      "False\n"
     ]
    }
   ],
   "source": [
    "# 14\n",
    "def is_pandilome(string):\n",
    "    if len(string)<= 1:\n",
    "        return True\n",
    "    else:\n",
    "        return string [0] == string[-1] and is_pandilome(string[1:-1])\n",
    "result1= is_pandilome('bob')\n",
    "result2= is_pandilome('bat')\n",
    "print(result1)\n",
    "print(result2)"
   ]
  },
  {
   "cell_type": "code",
   "execution_count": 35,
   "metadata": {},
   "outputs": [
    {
     "data": {
      "text/plain": [
       "8"
      ]
     },
     "execution_count": 35,
     "metadata": {},
     "output_type": "execute_result"
    }
   ],
   "source": [
    "# 15\n",
    "def gcd(a,b):\n",
    "    if b== 0:\n",
    "        return a\n",
    "    else:\n",
    "        return gcd(b, a%b)\n",
    "gcd(8,16)"
   ]
  }
 ],
 "metadata": {
  "kernelspec": {
   "display_name": "Python 3",
   "language": "python",
   "name": "python3"
  },
  "language_info": {
   "codemirror_mode": {
    "name": "ipython",
    "version": 3
   },
   "file_extension": ".py",
   "mimetype": "text/x-python",
   "name": "python",
   "nbconvert_exporter": "python",
   "pygments_lexer": "ipython3",
   "version": "3.8.18"
  }
 },
 "nbformat": 4,
 "nbformat_minor": 2
}
