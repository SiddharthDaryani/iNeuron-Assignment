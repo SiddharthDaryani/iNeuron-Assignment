{
 "cells": [
  {
   "cell_type": "raw",
   "id": "f275da4f",
   "metadata": {},
   "source": [
    "#1\n",
    "In the below elements which of them are values or an expression? eg:- values can be\n",
    "integer or string and expressions will be mathematical operators.\n",
    "*\n",
    "'hello'\n",
    "-87.8\n",
    "-\n",
    "/\n",
    "+\n",
    "6\n",
    "\n",
    "* is an expression\n",
    "'hello' is a string value\n",
    "-87.8 is a float value\n",
    "- is an expression\n",
    "/ is an expression\n",
    "+ is an expression\n",
    "6 is an integer value"
   ]
  },
  {
   "cell_type": "raw",
   "id": "6e38571e",
   "metadata": {},
   "source": [
    "#2\n",
    "What is the difference between string and variable?\n",
    "String is a data type which can be stored in a variable\n",
    "Variable is a unique name for any data, we can store data types like string in variables"
   ]
  },
  {
   "cell_type": "raw",
   "id": "be37ac86",
   "metadata": {},
   "source": [
    "#3\n",
    "Describe three different data types\n",
    "Three main different data types are:\n",
    "String: It can hold any value enclosed with quotes ('') it can be digits, letters and symbols.\n",
    "    Strings are mutable and iterable\n",
    "Integer: If we store just digits in a variable an integer data is stored.\n",
    "    We can perform arthematic operations with integer data type.\n",
    "List: It is a set or collection of many data types stored together in a single variable enclosed with square brackets ([]).\n",
    "    Lists are mutable and iterable"
   ]
  },
  {
   "cell_type": "raw",
   "id": "f9137dff",
   "metadata": {},
   "source": [
    "#4\n",
    "What is an expression made up of? What do all expressions do?\n",
    "Expressions are made up of operants and operators\n",
    "Operants are the values operated by operators operants can be integer, string, list.\n",
    "Operators are the symbols which perform on operants such as arthematic operators, logical operators and comparitive operator\n",
    "Operators and operants used together to get a result is an expression all expressions do is to do the necessary calculations and comparision."
   ]
  },
  {
   "cell_type": "raw",
   "id": "eb998082",
   "metadata": {},
   "source": [
    "#5\n",
    "This assignment statements, like spam = 10. What is the difference between anexpression and a statement?\n",
    "Assignment statements like spam= 10 is the assignning of variables we are creating a value and storing a data in it.\n",
    "an expression contains operator and operants which performs a necessary calculation, comparision and gives a result, we can also assin the output to a variable."
   ]
  },
  {
   "cell_type": "code",
   "execution_count": 3,
   "id": "15d1fd07",
   "metadata": {},
   "outputs": [
    {
     "name": "stdout",
     "output_type": "stream",
     "text": [
      "22\n"
     ]
    }
   ],
   "source": [
    "#6\n",
    "#After running the following code, what does the variable bacon contain?\n",
    "bacon = 22\n",
    "bacon + 1\n",
    "print(bacon)\n",
    "#The bacon variable still contains 22 as an integer, as we didn't assign the data to variable we just performed an expression"
   ]
  },
  {
   "cell_type": "code",
   "execution_count": 4,
   "id": "83704169",
   "metadata": {},
   "outputs": [
    {
     "data": {
      "text/plain": [
       "'spamspamspam'"
      ]
     },
     "execution_count": 4,
     "metadata": {},
     "output_type": "execute_result"
    }
   ],
   "source": [
    "#7\n",
    "#What should the values of the following two terms be?\n",
    "'spam' + 'spamspam'\n",
    "'spam'*3 \n",
    "#both will return the same output 'spamspamspam' these expressions are called string expressions"
   ]
  },
  {
   "cell_type": "raw",
   "id": "38e0eab3",
   "metadata": {},
   "source": [
    "#8\n",
    "Why is eggs a valid variable name while 100 is invalid?\n",
    "A variable name can only start with letter, we can't start a variable name with digit or any symbol although we can add symbols and digits in between or at the end"
   ]
  },
  {
   "cell_type": "raw",
   "id": "a8c081e9",
   "metadata": {},
   "source": [
    "#9\n",
    "What three functions can be used to get the integer, floating-point number, or stringversion of a value?\n",
    "Functions like int(), float(), str() can be use to typecast any value by using these functions respectively we can also use list() to typecast a value into list."
   ]
  },
  {
   "cell_type": "raw",
   "id": "d06a891e",
   "metadata": {},
   "source": [
    "#10\n",
    "Why does this expression cause an error? How can you fix it?\n",
    "'I have eaten' + 99 + 'burritos'\n",
    "this will give an error as we are trying to add an integer type of value in a string type of value which is not possible,\n",
    "the right way of doing this is:\n",
    "'I have eaten' + str(99) + 'burritos'\n",
    "we are now adding two string type values"
   ]
  }
 ],
 "metadata": {
  "kernelspec": {
   "display_name": "Python 3 (ipykernel)",
   "language": "python",
   "name": "python3"
  },
  "language_info": {
   "codemirror_mode": {
    "name": "ipython",
    "version": 3
   },
   "file_extension": ".py",
   "mimetype": "text/x-python",
   "name": "python",
   "nbconvert_exporter": "python",
   "pygments_lexer": "ipython3",
   "version": "3.10.9"
  }
 },
 "nbformat": 4,
 "nbformat_minor": 5
}
