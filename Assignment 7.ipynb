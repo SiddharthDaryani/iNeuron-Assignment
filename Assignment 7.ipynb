{
 "cells": [
  {
   "cell_type": "code",
   "execution_count": 1,
   "id": "8872bf7f",
   "metadata": {},
   "outputs": [
    {
     "name": "stdout",
     "output_type": "stream",
     "text": [
      "Enter first number: 56\n",
      "Enter second number: 48\n",
      "First variable is 56.0 and second variable is 48.0\n",
      "Addition: 56.0 + 48.0 = 104.0\n",
      "Subtraction: 56.0 - 48.0 = 8.0\n",
      "Multiplication: 56.0 * 48.0 = 2688.0\n",
      "Division: 56.0 / 48.0 = 1.1666666666666667\n"
     ]
    }
   ],
   "source": [
    "#1\n",
    "a= float(input(\"Enter first number: \"))\n",
    "b= float(input(\"Enter second number: \"))\n",
    "add= a+b\n",
    "sub= a-b\n",
    "div= a/b\n",
    "mul= a*b\n",
    "print(f\"First variable is {a} and second variable is {b}\")\n",
    "print(f\"Addition: {a} + {b} = {add}\")\n",
    "print(f\"Subtraction: {a} - {b} = {sub}\")\n",
    "print(f\"Multiplication: {a} * {b} = {mul}\")\n",
    "print(f\"Division: {a} / {b} = {div}\")"
   ]
  },
  {
   "cell_type": "code",
   "execution_count": 2,
   "id": "9f7cc457",
   "metadata": {},
   "outputs": [],
   "source": [
    "#2\n",
    "#The difference between / and // is / symbol is use for dividing and // symbol is use for floor division it gives the floor value after dividing.\n",
    "#^ and ** both do the same operation it is use for adding to the power like 2**4 meaning 2 to the power 4."
   ]
  },
  {
   "cell_type": "code",
   "execution_count": 3,
   "id": "455aaae4",
   "metadata": {},
   "outputs": [],
   "source": [
    "#3\n",
    "#Logical operators in python are 'and', 'or', 'is', 'not' etc."
   ]
  },
  {
   "cell_type": "code",
   "execution_count": 5,
   "id": "2d8ee149",
   "metadata": {},
   "outputs": [
    {
     "name": "stdout",
     "output_type": "stream",
     "text": [
      "2\n",
      "40\n"
     ]
    }
   ],
   "source": [
    "#4\n",
    "\"\"\"\n",
    "Right shift operator is use to shift bits of a binary number to right.\n",
    "Left shift operator is use to shift bits of a binary number to left.\n",
    "\"\"\"\n",
    "num= 10\n",
    "right_shift= num >> 2 #shifts the bit to right by 2 bits.\n",
    "left_shift= num<< 2 #shifts the bit to left by 2 bits.\n",
    "print(right_shift)\n",
    "print(left_shift)"
   ]
  },
  {
   "cell_type": "code",
   "execution_count": 9,
   "id": "4f2d5f73",
   "metadata": {},
   "outputs": [
    {
     "name": "stdout",
     "output_type": "stream",
     "text": [
      "Length of list is  15\n",
      "10 is present in list\n"
     ]
    }
   ],
   "source": [
    "#5\n",
    "l=[]\n",
    "for i in range(0,15):\n",
    "    l.append(i)\n",
    "print(\"Length of list is \",len(l))\n",
    "if 10 in l:\n",
    "    print(\"10 is present in list\")\n",
    "else:\n",
    "    print(\"10 is not present in list\")"
   ]
  },
  {
   "cell_type": "code",
   "execution_count": null,
   "id": "7e1f7f2c",
   "metadata": {},
   "outputs": [],
   "source": []
  }
 ],
 "metadata": {
  "kernelspec": {
   "display_name": "Python 3 (ipykernel)",
   "language": "python",
   "name": "python3"
  },
  "language_info": {
   "codemirror_mode": {
    "name": "ipython",
    "version": 3
   },
   "file_extension": ".py",
   "mimetype": "text/x-python",
   "name": "python",
   "nbconvert_exporter": "python",
   "pygments_lexer": "ipython3",
   "version": "3.11.3"
  }
 },
 "nbformat": 4,
 "nbformat_minor": 5
}
