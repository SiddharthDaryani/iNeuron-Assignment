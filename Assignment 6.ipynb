{
 "cells": [
  {
   "cell_type": "code",
   "execution_count": 2,
   "id": "1ca003cb",
   "metadata": {},
   "outputs": [
    {
     "name": "stdout",
     "output_type": "stream",
     "text": [
      "Python keywords are: \n",
      "False\n",
      "None\n",
      "True\n",
      "and\n",
      "as\n",
      "assert\n",
      "async\n",
      "await\n",
      "break\n",
      "class\n",
      "continue\n",
      "def\n",
      "del\n",
      "elif\n",
      "else\n",
      "except\n",
      "finally\n",
      "for\n",
      "from\n",
      "global\n",
      "if\n",
      "import\n",
      "in\n",
      "is\n",
      "lambda\n",
      "nonlocal\n",
      "not\n",
      "or\n",
      "pass\n",
      "raise\n",
      "return\n",
      "try\n",
      "while\n",
      "with\n",
      "yield\n"
     ]
    }
   ],
   "source": [
    "#1\n",
    "#Keywords in python are some reserved words by python to run some specific operation. We cannot name a variable as a keyword name.\n",
    "import keyword\n",
    "print(\"Python keywords are: \")\n",
    "for i in keyword.kwlist:\n",
    "    print(i)"
   ]
  },
  {
   "cell_type": "code",
   "execution_count": 3,
   "id": "b222857b",
   "metadata": {},
   "outputs": [
    {
     "data": {
      "text/plain": [
       "'\\nRules to create variables in python are:\\nVariable cannot be a keyword.\\nVariable cannot start with digits althou you can add numbers in between or in the end like a1 or a2.\\nVariable name cannot start with a symbol we can add it in between or in end like a_ or b&.\\n'"
      ]
     },
     "execution_count": 3,
     "metadata": {},
     "output_type": "execute_result"
    }
   ],
   "source": [
    "#2\n",
    "\"\"\"\n",
    "Rules to create variables in python are:\n",
    "Variable cannot be a keyword.\n",
    "Variable cannot start with digits althou you can add numbers in between or in the end like a1 or a2.\n",
    "Variable name cannot start with a symbol we can add it in between or in end like a_ or b&.\n",
    "\"\"\""
   ]
  },
  {
   "cell_type": "code",
   "execution_count": 4,
   "id": "1288c37a",
   "metadata": {},
   "outputs": [
    {
     "data": {
      "text/plain": [
       "'\\nPrefer to use a variable starting with a lowercase letter to distinguish between keywords and variables and make your code more readable.\\nMake variable name more meaningful instead of giving random alphabets as a variable it make the code more readable. Like use variable like total_price instead of x.\\nVariable name should be consistent names like my_variable, another_variable, hidden_variable.\\nAvoid using special characters in variable names it makes code less readable.\\n'"
      ]
     },
     "execution_count": 4,
     "metadata": {},
     "output_type": "execute_result"
    }
   ],
   "source": [
    "#3\n",
    "\"\"\"\n",
    "Prefer to use a variable starting with a lowercase letter to distinguish between keywords and variables and make your code more readable.\n",
    "Make variable name more meaningful instead of giving random alphabets as a variable it make the code more readable. Like use variable like total_price instead of x.\n",
    "Variable name should be consistent names like my_variable, another_variable, hidden_variable.\n",
    "Avoid using special characters in variable names it makes code less readable.\n",
    "\"\"\""
   ]
  },
  {
   "cell_type": "code",
   "execution_count": 5,
   "id": "87c0d88c",
   "metadata": {},
   "outputs": [
    {
     "ename": "SyntaxError",
     "evalue": "invalid syntax (3314939761.py, line 5)",
     "output_type": "error",
     "traceback": [
      "\u001b[1;36m  Cell \u001b[1;32mIn[5], line 5\u001b[1;36m\u001b[0m\n\u001b[1;33m    if= \"abc\"\u001b[0m\n\u001b[1;37m      ^\u001b[0m\n\u001b[1;31mSyntaxError\u001b[0m\u001b[1;31m:\u001b[0m invalid syntax\n"
     ]
    }
   ],
   "source": [
    "#4\n",
    "\"\"\"\n",
    "If a keyword is used as a variable name it will give an syntax error as python dosen't allow you to do that.\n",
    "\"\"\"\n",
    "if= \"abc\""
   ]
  },
  {
   "cell_type": "code",
   "execution_count": 7,
   "id": "f41061a8",
   "metadata": {},
   "outputs": [
    {
     "data": {
      "text/plain": [
       "50"
      ]
     },
     "execution_count": 7,
     "metadata": {},
     "output_type": "execute_result"
    }
   ],
   "source": [
    "#5\n",
    "\"\"\"\n",
    "The keyword 'def' is use for defining a function.\n",
    "Here is a use case.\n",
    "\"\"\"\n",
    "def add(a,b):\n",
    "    return a+b\n",
    "add(45,5)"
   ]
  },
  {
   "cell_type": "code",
   "execution_count": 8,
   "id": "08565c8c",
   "metadata": {},
   "outputs": [
    {
     "data": {
      "text/plain": [
       "'\\nThe backslash (\\\\) in python is generally used to chaange line by typing \\n and giving tabs like \\t.\\n'"
      ]
     },
     "execution_count": 8,
     "metadata": {},
     "output_type": "execute_result"
    }
   ],
   "source": [
    "#6\n",
    "\"\"\"\n",
    "The backslash (\\) in python is generally used to chaange line by typing \\n and giving tabs like \\t.\n",
    "\"\"\""
   ]
  },
  {
   "cell_type": "code",
   "execution_count": 9,
   "id": "df5ece02",
   "metadata": {},
   "outputs": [],
   "source": [
    "#7\n",
    "#Homogeneous list: Homogeneous list is a list containing elements of same data type.\n",
    "l= [5,6,22,64,1,5] #all elements are integers.\n",
    "#Heterogeneous set: Heterogeneous set is a set containing elements of different data types.\n",
    "s= {12,\"cat\",(1511,74),\"meow\"} #a set of different datatypes.\n",
    "#Homogeneous tuple: Homogeneous tuple is a tuple containing elements of same data type.\n",
    "t= (\"cat\",\"dog\",\"sun\",\"moon\") #a tuple of string data type only."
   ]
  },
  {
   "cell_type": "code",
   "execution_count": 10,
   "id": "4d54ab4c",
   "metadata": {},
   "outputs": [
    {
     "data": {
      "text/plain": [
       "'\\nMutable data types are data types which can be manipulated/changed after assigning. Examples are: list, dictionary,string.\\nImmutable data types are data types which cannot be manipulated/ changed after assigning. Examples are: tuple.\\n'"
      ]
     },
     "execution_count": 10,
     "metadata": {},
     "output_type": "execute_result"
    }
   ],
   "source": [
    "#8\n",
    "\"\"\"\n",
    "Mutable data types are data types which can be manipulated/changed after assigning. Examples are: list, dictionary,string.\n",
    "Immutable data types are data types which cannot be manipulated/ changed after assigning. Examples are: tuple.\n",
    "\"\"\""
   ]
  },
  {
   "cell_type": "code",
   "execution_count": 11,
   "id": "0a9009c6",
   "metadata": {},
   "outputs": [
    {
     "name": "stdout",
     "output_type": "stream",
     "text": [
      "    * \r\n",
      "   * * \r\n",
      "  * * * \r\n",
      " * * * * \r\n",
      "* * * * * \r\n"
     ]
    }
   ],
   "source": [
    "#9\n",
    "# Function to demonstrate printing pattern triangle\n",
    "def triangle(n):\n",
    "     \n",
    "    # number of spaces\n",
    "    k = n - 1\n",
    " \n",
    "    # outer loop to handle number of rows\n",
    "    for i in range(0, n):\n",
    "     \n",
    "        # inner loop to handle number spaces\n",
    "        # values changing acc. to requirement\n",
    "        for j in range(0, k):\n",
    "            print(end=\" \")\n",
    "     \n",
    "        # decrementing k after each loop\n",
    "        k = k - 1\n",
    "     \n",
    "        # inner loop to handle number of columns\n",
    "        # values changing acc. to outer loop\n",
    "        for j in range(0, i+1):\n",
    "         \n",
    "            # printing stars\n",
    "            print(\"* \", end=\"\")\n",
    "     \n",
    "        # ending line after each row\n",
    "        print(\"\\r\")\n",
    " \n",
    "# Driver Code\n",
    "n = 5\n",
    "triangle(n)"
   ]
  },
  {
   "cell_type": "code",
   "execution_count": 14,
   "id": "d6a7f511",
   "metadata": {},
   "outputs": [
    {
     "name": "stdout",
     "output_type": "stream",
     "text": [
      "| | | | | \n",
      " | | | | \n",
      "  | | | \n",
      "   | | \n",
      "    | \n"
     ]
    }
   ],
   "source": [
    "#10\n",
    "num = 5\n",
    "\n",
    "# Loop over number of rows and columns\n",
    "for i in range(num, 0, -1):\n",
    "    \n",
    "    # Spaces across rows\n",
    "    for j in range(0, num-i):\n",
    "        print(end=\" \")\n",
    "    \n",
    "    # Print spaced stars\n",
    "    for j in range(0, i):\n",
    "        print(\"|\", end=\" \")\n",
    "    \n",
    "    # Go to next line\n",
    "    print()"
   ]
  },
  {
   "cell_type": "code",
   "execution_count": null,
   "id": "c1d9d6a6",
   "metadata": {},
   "outputs": [],
   "source": []
  }
 ],
 "metadata": {
  "kernelspec": {
   "display_name": "Python 3 (ipykernel)",
   "language": "python",
   "name": "python3"
  },
  "language_info": {
   "codemirror_mode": {
    "name": "ipython",
    "version": 3
   },
   "file_extension": ".py",
   "mimetype": "text/x-python",
   "name": "python",
   "nbconvert_exporter": "python",
   "pygments_lexer": "ipython3",
   "version": "3.11.3"
  }
 },
 "nbformat": 4,
 "nbformat_minor": 5
}
