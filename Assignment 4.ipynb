{
 "cells": [
  {
   "cell_type": "code",
   "execution_count": null,
   "id": "487bfa54",
   "metadata": {},
   "outputs": [],
   "source": [
    "#1\n",
    "[] basicaslly means empty list, we assign this to a variable which we want to be an empty list, for example:\n",
    "l= []"
   ]
  },
  {
   "cell_type": "code",
   "execution_count": 1,
   "id": "1b9dc6b0",
   "metadata": {},
   "outputs": [
    {
     "name": "stdout",
     "output_type": "stream",
     "text": [
      "[2, 4, 'hello', 8, 10]\n"
     ]
    }
   ],
   "source": [
    "#2\n",
    "spam= [2,4,6,8,10]\n",
    "spam[2]= 'hello'\n",
    "print(spam)"
   ]
  },
  {
   "cell_type": "code",
   "execution_count": 2,
   "id": "449b746f",
   "metadata": {},
   "outputs": [
    {
     "data": {
      "text/plain": [
       "'d'"
      ]
     },
     "execution_count": 2,
     "metadata": {},
     "output_type": "execute_result"
    }
   ],
   "source": [
    "#3\n",
    "spam= ['a','b','c','d']\n",
    "#answer will be 3 that is the third index of the list spam will be the output\n",
    "spam[int(int('3'*2)/11)]"
   ]
  },
  {
   "cell_type": "code",
   "execution_count": 3,
   "id": "9b4a73a2",
   "metadata": {},
   "outputs": [
    {
     "data": {
      "text/plain": [
       "'d'"
      ]
     },
     "execution_count": 3,
     "metadata": {},
     "output_type": "execute_result"
    }
   ],
   "source": [
    "#4\n",
    "#It will give the output of the last index of the list\n",
    "spam[-1]"
   ]
  },
  {
   "cell_type": "code",
   "execution_count": 4,
   "id": "9c484ec5",
   "metadata": {},
   "outputs": [
    {
     "data": {
      "text/plain": [
       "['a', 'b']"
      ]
     },
     "execution_count": 4,
     "metadata": {},
     "output_type": "execute_result"
    }
   ],
   "source": [
    "#5\n",
    "#This will give the output from starting that is 0th index to 1st index because it will exclude the upper limit\n",
    "spam[:2]"
   ]
  },
  {
   "cell_type": "code",
   "execution_count": 6,
   "id": "8112e757",
   "metadata": {},
   "outputs": [
    {
     "data": {
      "text/plain": [
       "3"
      ]
     },
     "execution_count": 6,
     "metadata": {},
     "output_type": "execute_result"
    }
   ],
   "source": [
    "#6\n",
    "#It will give the index of the 'cat' in a list named bacon\n",
    "bacon= ['dog', 'rabbit','snail','cat','monkey','cow']\n",
    "bacon.index('cat')"
   ]
  },
  {
   "cell_type": "code",
   "execution_count": 7,
   "id": "9a100332",
   "metadata": {},
   "outputs": [
    {
     "data": {
      "text/plain": [
       "['dog', 'rabbit', 'snail', 'cat', 'monkey', 'cow', 99]"
      ]
     },
     "execution_count": 7,
     "metadata": {},
     "output_type": "execute_result"
    }
   ],
   "source": [
    "#7\n",
    "#It will add 99 as the last index in a list\n",
    "bacon.append(99)\n",
    "bacon"
   ]
  },
  {
   "cell_type": "code",
   "execution_count": 8,
   "id": "d0683483",
   "metadata": {},
   "outputs": [
    {
     "data": {
      "text/plain": [
       "['dog', 'rabbit', 'snail', 'monkey', 'cow', 99]"
      ]
     },
     "execution_count": 8,
     "metadata": {},
     "output_type": "execute_result"
    }
   ],
   "source": [
    "#8\n",
    "#It will remove 'cat' in the list named bacon\n",
    "bacon.remove('cat')\n",
    "bacon"
   ]
  },
  {
   "cell_type": "code",
   "execution_count": 10,
   "id": "cd35c000",
   "metadata": {},
   "outputs": [
    {
     "name": "stdout",
     "output_type": "stream",
     "text": [
      "['dog', 'rabbit', 'snail', 'monkey', 'cow', 99, 'humming', 'eagle', 'woodpecker']\n",
      "['rabbit', 'snail']\n"
     ]
    }
   ],
   "source": [
    "#9\n",
    "#This is a list concatination operation, I used '+' operator to print both list as one\n",
    "birds=['humming','eagle','woodpecker']\n",
    "print(bacon+birds)\n",
    "#This is list list replication operation, I used slicing operation as an example\n",
    "print(bacon[1:3])"
   ]
  },
  {
   "cell_type": "code",
   "execution_count": 13,
   "id": "9c63ceb5",
   "metadata": {},
   "outputs": [
    {
     "data": {
      "text/plain": [
       "['dog',\n",
       " 'rabbit',\n",
       " 'donkey',\n",
       " 'donkey',\n",
       " 'snail',\n",
       " 'monkey',\n",
       " 'cow',\n",
       " 99,\n",
       " 'horse',\n",
       " 'horse',\n",
       " 'horse']"
      ]
     },
     "execution_count": 13,
     "metadata": {},
     "output_type": "execute_result"
    }
   ],
   "source": [
    "#10\n",
    "\"\"\"\n",
    "append() function appends the given value in bracket to the list in the end.\n",
    "insert() function takes two values in the bracket 1st one is the index and second one is the value to be inserted in a list\n",
    "\"\"\"\n",
    "bacon.append('horse')\n",
    "bacon\n",
    "bacon.insert(2,'donkey')\n",
    "bacon"
   ]
  },
  {
   "cell_type": "code",
   "execution_count": 15,
   "id": "93db5cdb",
   "metadata": {},
   "outputs": [
    {
     "name": "stdout",
     "output_type": "stream",
     "text": [
      "['dog', 'rabbit', 'donkey', 'snail', 'monkey', 'cow', 99, 'horse', 'horse', 'horse']\n",
      "['dog', 'rabbit', 'donkey', 'snail', 'cow', 99, 'horse', 'horse', 'horse']\n",
      "['dog', 'rabbit', 'donkey', 'snail', 99, 'horse', 'horse', 'horse']\n"
     ]
    }
   ],
   "source": [
    "#11\n",
    "#the two methods of removing an object from lists are .pop() and .remove()\n",
    "#printing the list before using functions\n",
    "print(bacon)\n",
    "#.pop() takes the value as index of the item\n",
    "bacon.pop(4)\n",
    "print (bacon)\n",
    "#.remove() takes the value as it is\n",
    "bacon.remove('cow')\n",
    "print(bacon)"
   ]
  },
  {
   "cell_type": "code",
   "execution_count": null,
   "id": "89439163",
   "metadata": {},
   "outputs": [],
   "source": [
    "#12\n",
    "Both list and string:\n",
    "Have indexes for positioning\n",
    "Are mutable\n",
    "Perform operations like slicing, append, reverse, remove, concatination operations."
   ]
  },
  {
   "cell_type": "code",
   "execution_count": null,
   "id": "be5157e2",
   "metadata": {},
   "outputs": [],
   "source": [
    "#13\n",
    "Tuple are immutable whereas lists are mutable\n",
    "We can't use funtions like .append(), .clear(), .remove() in tuples\n",
    "Tuple are defined with round brackets() and lists are defined with square brackets[]"
   ]
  },
  {
   "cell_type": "code",
   "execution_count": 21,
   "id": "54db7270",
   "metadata": {},
   "outputs": [
    {
     "data": {
      "text/plain": [
       "tuple"
      ]
     },
     "execution_count": 21,
     "metadata": {},
     "output_type": "execute_result"
    }
   ],
   "source": [
    "#14\n",
    "a= (42,)\n",
    "type(a)"
   ]
  },
  {
   "cell_type": "code",
   "execution_count": 27,
   "id": "08f9ec29",
   "metadata": {},
   "outputs": [
    {
     "name": "stdout",
     "output_type": "stream",
     "text": [
      "('a', 4, 'dog', 'sidd', 21)\n",
      "['roll no', 'sun', 46, 'string']\n"
     ]
    }
   ],
   "source": [
    "#15\n",
    "#Getting a list value in tuple form\n",
    "l=['a',4,'dog','sidd',21]\n",
    "l=tuple(l)\n",
    "print(l)\n",
    "#Getting tuple value in list form\n",
    "t=('roll no','sun',46, 'string')\n",
    "t=list(t)\n",
    "print(t)"
   ]
  },
  {
   "cell_type": "code",
   "execution_count": 1,
   "id": "3d9bc198",
   "metadata": {},
   "outputs": [],
   "source": [
    "#16\n",
    "#Variable that are assigned with list objects are actually references to the list and not actually list object itself.\n",
    "l= [1,2,13]\n",
    "#The list 'l' is actually a reference to the list [1,2,13] and not the list object itself"
   ]
  },
  {
   "cell_type": "code",
   "execution_count": 4,
   "id": "9cb6ed54",
   "metadata": {},
   "outputs": [
    {
     "name": "stdout",
     "output_type": "stream",
     "text": [
      "[[454, 'meow', 31], [121, 5], ['cat', 'dog']]\n",
      "[[454, 'meow', 31], [121, 5], ['cat', 'dog']]\n"
     ]
    }
   ],
   "source": [
    "#17\n",
    "\"\"\"\n",
    "copy.copy() is a function which creates a real copy of each indexes of the value, we can say that it is different from reassigning values as reassigning of value dosen't create copies it gives references that is, if the reassigned value is manipulated the orginal value will also change.\n",
    "In this function we can create a real copy of indexes and the orginal data won't change if the copied one is manipulated.\n",
    "\n",
    "copy.deepcopy() function is almost like copy but deepcopy is helpful in nested data as it deeply copies the data and not only indexes\n",
    "\"\"\"\n",
    "#usage of both function\n",
    "import copy\n",
    "#creating a nested list\n",
    "a=[[454,445,31],[121,5],['cat', 'dog']]\n",
    "c= copy.copy(a)\n",
    "#manipulating the nested data\n",
    "c[0][1]='meow'\n",
    "#this will change the data in original data\n",
    "print(a)\n",
    "#creating a variable with deep copy and trying the same\n",
    "d= copy.deepcopy(a)\n",
    "d[0][1]='kitty'\n",
    "print(a)"
   ]
  },
  {
   "cell_type": "code",
   "execution_count": null,
   "id": "de8116d6",
   "metadata": {},
   "outputs": [],
   "source": []
  }
 ],
 "metadata": {
  "kernelspec": {
   "display_name": "Python 3 (ipykernel)",
   "language": "python",
   "name": "python3"
  },
  "language_info": {
   "codemirror_mode": {
    "name": "ipython",
    "version": 3
   },
   "file_extension": ".py",
   "mimetype": "text/x-python",
   "name": "python",
   "nbconvert_exporter": "python",
   "pygments_lexer": "ipython3",
   "version": "3.10.9"
  }
 },
 "nbformat": 4,
 "nbformat_minor": 5
}
