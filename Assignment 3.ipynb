{
 "cells": [
  {
   "cell_type": "code",
   "execution_count": null,
   "id": "26e303da",
   "metadata": {},
   "outputs": [],
   "source": [
    "#1\n",
    "In a program we define functions so that we can use the same defined function multiple times just by calling it instead of writing the whole code again and again.\n",
    "There are many in- built functions in python and we can also define new functions."
   ]
  },
  {
   "cell_type": "code",
   "execution_count": null,
   "id": "c69f8983",
   "metadata": {},
   "outputs": [],
   "source": [
    "#2\n",
    "The function runs the code which is present in the indentation while defining the function, here is an example of defining a function:\n",
    "def divide(a,b):\n",
    "    return a/b\n",
    "The code which is inside the indentation will run if we call a function."
   ]
  },
  {
   "cell_type": "code",
   "execution_count": null,
   "id": "0b8019ac",
   "metadata": {},
   "outputs": [],
   "source": [
    "#3\n",
    "For defining a function we can use this statement:\n",
    "def add(a,b):\n",
    "    return a+b"
   ]
  },
  {
   "cell_type": "code",
   "execution_count": 2,
   "id": "4e9efa54",
   "metadata": {},
   "outputs": [
    {
     "data": {
      "text/plain": [
       "5"
      ]
     },
     "execution_count": 2,
     "metadata": {},
     "output_type": "execute_result"
    }
   ],
   "source": [
    "#4\n",
    "\"\"\"A function is defining a new function with the keyword def and calling a function means calling an already defined function, here is a calling of a function\"\"\"\n",
    "#Defining a function\n",
    "def add(a,b):\n",
    "    return a+b\n",
    "#calling a function\n",
    "add(2,3)"
   ]
  },
  {
   "cell_type": "code",
   "execution_count": 3,
   "id": "e163a4f6",
   "metadata": {},
   "outputs": [
    {
     "name": "stdout",
     "output_type": "stream",
     "text": [
      "45\n"
     ]
    },
    {
     "ename": "NameError",
     "evalue": "name 'b' is not defined",
     "output_type": "error",
     "traceback": [
      "\u001b[1;31m---------------------------------------------------------------------------\u001b[0m",
      "\u001b[1;31mNameError\u001b[0m                                 Traceback (most recent call last)",
      "Cell \u001b[1;32mIn[3], line 14\u001b[0m\n\u001b[0;32m     12\u001b[0m \u001b[38;5;66;03m#Let's see their values\u001b[39;00m\n\u001b[0;32m     13\u001b[0m \u001b[38;5;28mprint\u001b[39m(a)\n\u001b[1;32m---> 14\u001b[0m \u001b[38;5;28mprint\u001b[39m(\u001b[43mb\u001b[49m)\n",
      "\u001b[1;31mNameError\u001b[0m: name 'b' is not defined"
     ]
    }
   ],
   "source": [
    "#5\n",
    "\"\"\"\n",
    "Global scope variable is the variable which is assigned outside a function and that varible will show values in the whole program even inside a function.\n",
    "Local scope variable is the variable whichh is assigned inside a function that variable will show values inside the function only will not show values outside the function.\n",
    "#Global variable\n",
    "\"\"\"\n",
    "a= 45\n",
    "#Local variable\n",
    "def local():\n",
    "    b= \"Peacock\"\n",
    "    print(b)\n",
    "#Let's see their values\n",
    "print(a)\n",
    "print(b)\n",
    "#error will give a NameError name 'b' is not defined"
   ]
  },
  {
   "cell_type": "code",
   "execution_count": 5,
   "id": "6906e565",
   "metadata": {},
   "outputs": [
    {
     "name": "stdout",
     "output_type": "stream",
     "text": [
      "Peacock\n"
     ]
    }
   ],
   "source": [
    "#6\n",
    "\"\"\"\n",
    "The local variable will show values if the function is called.\n",
    "\"\"\"\n",
    "def local():\n",
    "    b= \"Peacock\"\n",
    "    print(b)\n",
    "local()"
   ]
  },
  {
   "cell_type": "code",
   "execution_count": 7,
   "id": "4585e9a4",
   "metadata": {},
   "outputs": [
    {
     "name": "stdout",
     "output_type": "stream",
     "text": [
      "6\n",
      "<class 'int'>\n",
      "6\n",
      "<class 'NoneType'>\n"
     ]
    }
   ],
   "source": [
    "#7\n",
    "\"\"\"\n",
    "The return value will give the outout as an object and dosen't change the type of the returned value, we can also use print statement but that will give output in the console and will change the type of the value.\n",
    "Yes we can also return an expression while using return, return will apply only inside a function.\n",
    "\"\"\"\n",
    "#defining a function with return\n",
    "def return_fun(a,b):\n",
    "    return a*b\n",
    "#defining a function with print\n",
    "def print_fun(a,b):\n",
    "    print(a*b)\n",
    "#caling both the functions\n",
    "return_fun(2,3)\n",
    "print_fun(2,3)\n",
    "#checking their type\n",
    "print(type(return_fun(2,3)))\n",
    "#This will show 'NoneType as it's type\n",
    "print(type(print_fun(2,3)))"
   ]
  },
  {
   "cell_type": "code",
   "execution_count": null,
   "id": "727b0662",
   "metadata": {},
   "outputs": [],
   "source": [
    "#8\n",
    "If there is no return statement in a function it will do all the operations inside the function after calling and print something if the print statement is given."
   ]
  },
  {
   "cell_type": "code",
   "execution_count": 8,
   "id": "aa6e7e61",
   "metadata": {},
   "outputs": [
    {
     "name": "stdout",
     "output_type": "stream",
     "text": [
      "cat\n"
     ]
    }
   ],
   "source": [
    "#9\n",
    "\"\"\"\n",
    "We can assign the return value of the function to a global variable and it will be stored in a global variable.\n",
    "\"\"\"\n",
    "def fun():\n",
    "    loc= \"cat\"\n",
    "    return loc\n",
    "#storing the return value in a global variable\n",
    "glo= fun()\n",
    "print(glo)"
   ]
  },
  {
   "cell_type": "code",
   "execution_count": 9,
   "id": "fa43219e",
   "metadata": {},
   "outputs": [
    {
     "name": "stdout",
     "output_type": "stream",
     "text": [
      "<class 'NoneType'>\n"
     ]
    }
   ],
   "source": [
    "#10\n",
    "#None type is the data type of a None value\n",
    "a= None\n",
    "print(type(a))"
   ]
  },
  {
   "cell_type": "code",
   "execution_count": 10,
   "id": "bb1dacbf",
   "metadata": {},
   "outputs": [
    {
     "ename": "ModuleNotFoundError",
     "evalue": "No module named 'areallyourpetsnamederic'",
     "output_type": "error",
     "traceback": [
      "\u001b[1;31m---------------------------------------------------------------------------\u001b[0m",
      "\u001b[1;31mModuleNotFoundError\u001b[0m                       Traceback (most recent call last)",
      "Cell \u001b[1;32mIn[10], line 2\u001b[0m\n\u001b[0;32m      1\u001b[0m \u001b[38;5;66;03m#11\u001b[39;00m\n\u001b[1;32m----> 2\u001b[0m \u001b[38;5;28;01mimport\u001b[39;00m \u001b[38;5;21;01mareallyourpetsnamederic\u001b[39;00m\n",
      "\u001b[1;31mModuleNotFoundError\u001b[0m: No module named 'areallyourpetsnamederic'"
     ]
    }
   ],
   "source": [
    "#11\n",
    "The sentence import areallyourpetsnamederic will give an error as there is no mudule named as 'areallyourpetsnamederic' import function imports modules which are alredy created."
   ]
  },
  {
   "cell_type": "code",
   "execution_count": null,
   "id": "7a634fef",
   "metadata": {},
   "outputs": [],
   "source": [
    "#12\n",
    "import spam\n",
    "spam.bacon()"
   ]
  },
  {
   "cell_type": "code",
   "execution_count": 16,
   "id": "55838d3a",
   "metadata": {},
   "outputs": [
    {
     "name": "stdout",
     "output_type": "stream",
     "text": [
      "Enter an Integer: 20\n",
      "Enter an Integer: cat\n",
      "invalid literal for int() with base 10: 'cat'\n"
     ]
    }
   ],
   "source": [
    "#13\n",
    "\"\"\"\n",
    "We can do exceptional handling while programming a python file, exceptional handling is one of the most important part of a programme it will not confuse the user by showing a big error code, here is an example of exceptional handling\n",
    "\"\"\"\n",
    "try:\n",
    "    a= int(input(\"Enter an Integer: \"))\n",
    "    b= int(input(\"Enter an Integer: \"))\n",
    "    print(a/b)\n",
    "except Exception as e:\n",
    "    print(e)"
   ]
  },
  {
   "cell_type": "code",
   "execution_count": null,
   "id": "36bf1390",
   "metadata": {},
   "outputs": [],
   "source": [
    "#14\n",
    "Try clause will first try to proceed the operation inside the try block, will not go further to except block if executed successfully.\n",
    "Except block will run if the operation in try block gives an error and will not stop the program."
   ]
  }
 ],
 "metadata": {
  "kernelspec": {
   "display_name": "Python 3 (ipykernel)",
   "language": "python",
   "name": "python3"
  },
  "language_info": {
   "codemirror_mode": {
    "name": "ipython",
    "version": 3
   },
   "file_extension": ".py",
   "mimetype": "text/x-python",
   "name": "python",
   "nbconvert_exporter": "python",
   "pygments_lexer": "ipython3",
   "version": "3.10.9"
  }
 },
 "nbformat": 4,
 "nbformat_minor": 5
}
