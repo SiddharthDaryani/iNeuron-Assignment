{
 "cells": [
  {
   "cell_type": "code",
   "execution_count": null,
   "id": "9e539f08",
   "metadata": {},
   "outputs": [],
   "source": [
    "#1\n",
    "\"\"\"\n",
    "The two boolean data types are True and False. Make sure to write it in titlecase as python is a case sensitive language (true , false) would not be considered as boolean data types.\n",
    "we can use it to use while loops without giving a comparitive condition or we can get outputs like:\n",
    "\"\"\"\n",
    "s= \"I HAVE A CUTE KITTEN AND HE IS ONLY 1 MONTH OLD\"\n",
    "print(s.isupper())"
   ]
  },
  {
   "cell_type": "code",
   "execution_count": 7,
   "id": "e0e537ea",
   "metadata": {},
   "outputs": [
    {
     "name": "stdout",
     "output_type": "stream",
     "text": [
      "This is a use case of or operator and this will print!!!\n",
      "This will print\n"
     ]
    }
   ],
   "source": [
    "#2\n",
    "\"\"\"\n",
    "The three different boolean operators are and or not. \n",
    "And operator checks both the condition and executes the operation if both the conditions are true, it will not work if only one condition is true.\n",
    "Or operator checks both conditions and executes the operation even if one condition is true, it dosen't matter if another condition is false.\n",
    "\"\"\"\n",
    "a, b = 45, 2\n",
    "#and operator\n",
    "if a == 45 and b== 10:\n",
    "    print(\"this will not print\")\n",
    "#or operator\n",
    "elif a== 45 or b== 10:\n",
    "    print(\"This is a use case of or operator and this will print!!!\")\n",
    "\"\"\"\n",
    "Not operator changes the operator or the result in case of not true it will flip and work as false.\n",
    "\"\"\"\n",
    "#Not operator\n",
    "d= True\n",
    "if d is not True:\n",
    "    print(\"This will not print anything\")\n",
    "elif d is True:\n",
    "    print(\"This will print\")"
   ]
  },
  {
   "cell_type": "code",
   "execution_count": 6,
   "id": "c5b402ca",
   "metadata": {},
   "outputs": [],
   "source": [
    "#3\n",
    "#with and operator\n",
    "True and True = True\n",
    "False and True= False\n",
    "True and False= False\n",
    "False and False= False\n",
    "#with or operator\n",
    "True or True = True\n",
    "False or True= True\n",
    "True or False= True\n",
    "False or False= False"
   ]
  },
  {
   "cell_type": "code",
   "execution_count": 8,
   "id": "5151e05a",
   "metadata": {},
   "outputs": [
    {
     "data": {
      "text/plain": [
       "True"
      ]
     },
     "execution_count": 8,
     "metadata": {},
     "output_type": "execute_result"
    }
   ],
   "source": [
    "#4\n",
    "(5>4) and (3==5)\n",
    "False\n",
    "not (5>4)\n",
    "False\n",
    "(5>4) or (3==5)\n",
    "True\n",
    "not((5>4) or (3==5))\n",
    "False\n",
    "(True and True) and (True == False)\n",
    "False\n",
    "(not False) or (not True)\n",
    "True"
   ]
  },
  {
   "cell_type": "code",
   "execution_count": null,
   "id": "1a73e713",
   "metadata": {},
   "outputs": [],
   "source": [
    "#5\n",
    "Six comparision operators are:\n",
    "<\n",
    ">\n",
    "==\n",
    "<=\n",
    ">=\n",
    "!="
   ]
  },
  {
   "cell_type": "code",
   "execution_count": 9,
   "id": "13fe3f26",
   "metadata": {},
   "outputs": [
    {
     "name": "stdout",
     "output_type": "stream",
     "text": [
      "This will print\n"
     ]
    }
   ],
   "source": [
    "#6\n",
    "\"\"\"\n",
    "The assignment operator uses equal to sign only one time and comparitive equal to sign uses the sign two times.\n",
    "\"\"\"\n",
    "c= 10\n",
    "if c== 9:\n",
    "    print(\"Not going to print\")\n",
    "elif c== 10:\n",
    "    print (\"This will print\")"
   ]
  },
  {
   "cell_type": "code",
   "execution_count": 10,
   "id": "2bd369a6",
   "metadata": {},
   "outputs": [
    {
     "name": "stdout",
     "output_type": "stream",
     "text": [
      "ham\n",
      "spam\n",
      "spam\n"
     ]
    }
   ],
   "source": [
    "#7\n",
    "spam= 0\n",
    "if spam ==10:\n",
    "    print('eggs')\n",
    "#This block checks if the spam variale stores 10, this will not execute as the condition is false.\n",
    "if spam > 5:\n",
    "    print('bacon')\n",
    "#This is a new if block it dosen't matter if the above statement executes or not this will execute anyhow, but this statement is also false\n",
    "else:\n",
    "    print('ham')\n",
    "    print('spam')\n",
    "    print('spam')\n",
    "#This is the else statement and will run anyhow as there is no condition given, although it will not run if the if statement is true"
   ]
  },
  {
   "cell_type": "code",
   "execution_count": 13,
   "id": "4b328021",
   "metadata": {},
   "outputs": [
    {
     "name": "stdout",
     "output_type": "stream",
     "text": [
      "Enter 1 to print 'Hello', enter 2 to print 'Howdy' and enter anything else for 'Greetings!': bievev\n",
      "Greetings!\n"
     ]
    }
   ],
   "source": [
    "#8\n",
    "#Taking input from the user\n",
    "spam= input(\"Enter 1 to print 'Hello', enter 2 to print 'Howdy' and enter anything else for 'Greetings!': \")\n",
    "#checking the condition\n",
    "if spam == '1':\n",
    "    print(\"Hello\")\n",
    "elif spam == '2':\n",
    "    print(\"Howdy\")\n",
    "else:\n",
    "    print(\"Greetings!\")"
   ]
  },
  {
   "cell_type": "code",
   "execution_count": 14,
   "id": "7f73d6a3",
   "metadata": {},
   "outputs": [
    {
     "data": {
      "text/plain": [
       "\"\\nIf i'm using Jupyter notebook and i'm stuck in an endless loop I will click on the Kernel option on the top of the screen and will click 'Restart', it will ask again to restart click 'Restart' again.\\n\""
      ]
     },
     "execution_count": 14,
     "metadata": {},
     "output_type": "execute_result"
    }
   ],
   "source": [
    "#9\n",
    "\"\"\"\n",
    "If i'm using Jupyter notebook and i'm stuck in an endless loop I will click on the Kernel option on the top of the screen and will click 'Restart', it will ask again to restart click 'Restart' again.\n",
    "\"\"\""
   ]
  },
  {
   "cell_type": "code",
   "execution_count": 16,
   "id": "e456fa2d",
   "metadata": {},
   "outputs": [],
   "source": [
    "#10\n",
    "#The break command breaks the loop from continuing it further and the continue command will continue the loop from starting"
   ]
  },
  {
   "cell_type": "code",
   "execution_count": null,
   "id": "4398e36f",
   "metadata": {},
   "outputs": [],
   "source": [
    "#11\n",
    "range(10)\n",
    "range(0,10)\n",
    "range(0,10,1)\n",
    "Three of the conditions are same range 10 is the shortest way of writing this condition as by default the values of 0 nd 1 remains 0 and 1 if not entered anything on their place"
   ]
  },
  {
   "cell_type": "code",
   "execution_count": 18,
   "id": "d9e32181",
   "metadata": {},
   "outputs": [
    {
     "name": "stdout",
     "output_type": "stream",
     "text": [
      "1\n",
      "2\n",
      "3\n",
      "4\n",
      "5\n",
      "6\n",
      "7\n",
      "8\n",
      "9\n",
      "10\n",
      "1\n",
      "2\n",
      "3\n",
      "4\n",
      "5\n",
      "6\n",
      "7\n",
      "8\n",
      "9\n",
      "10\n"
     ]
    }
   ],
   "source": [
    "#12\n",
    "#for loop\n",
    "for i in range(1,11):\n",
    "    print(i)\n",
    "#while loop\n",
    "a= 1\n",
    "while a<=10:\n",
    "    print(a)\n",
    "    a= a+1"
   ]
  },
  {
   "cell_type": "code",
   "execution_count": null,
   "id": "ca2e0159",
   "metadata": {},
   "outputs": [],
   "source": [
    "#13\n",
    "spam.bacon()"
   ]
  }
 ],
 "metadata": {
  "kernelspec": {
   "display_name": "Python 3 (ipykernel)",
   "language": "python",
   "name": "python3"
  },
  "language_info": {
   "codemirror_mode": {
    "name": "ipython",
    "version": 3
   },
   "file_extension": ".py",
   "mimetype": "text/x-python",
   "name": "python",
   "nbconvert_exporter": "python",
   "pygments_lexer": "ipython3",
   "version": "3.10.9"
  }
 },
 "nbformat": 4,
 "nbformat_minor": 5
}
