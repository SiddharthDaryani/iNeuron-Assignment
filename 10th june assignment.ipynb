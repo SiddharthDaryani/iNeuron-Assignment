{
 "cells": [
  {
   "cell_type": "code",
   "execution_count": 7,
   "id": "12fb3c7c",
   "metadata": {},
   "outputs": [
    {
     "name": "stdout",
     "output_type": "stream",
     "text": [
      "['a', 'b', 'c', 'd']\n",
      "['a', 'b']\n"
     ]
    }
   ],
   "source": [
    "## 1. In Python, what is the difference between a built-in function and a user-defined function? Provide an example of each.\n",
    "\n",
    "## Python has a lot of built in functions for the ease of programming and user can define any type of funtion as they want.\n",
    "## Example\n",
    "a=['a','b','c']\n",
    "## This is a built in funtion\n",
    "a.append('d')\n",
    "print(a)\n",
    "\n",
    "## This is a user defined function\n",
    "def split(a):\n",
    "    return a [0: int(len(a)/2)]\n",
    "print(split(a))"
   ]
  },
  {
   "cell_type": "code",
   "execution_count": 14,
   "id": "c35fac94",
   "metadata": {},
   "outputs": [
    {
     "name": "stdout",
     "output_type": "stream",
     "text": [
      "This is printed using positional arguements:\n",
      "rainbow\n",
      "This is printed using keyword arguements:\n",
      "rainbow\n"
     ]
    }
   ],
   "source": [
    "## 2. How can you pass arguments to a function in Python? Explain the difference between positional arguments and keyword arguments.\n",
    "\n",
    "def combine(a,b):\n",
    "    return str(a)+str(b)\n",
    "# Positional arguements\n",
    "print(f'This is printed using positional arguements:')\n",
    "print(combine('rain', 'bow'))\n",
    "\n",
    "# Keyword arguements\n",
    "print(f'This is printed using keyword arguements:')\n",
    "print(combine(b= 'bow', a= 'rain'))\n",
    "# you can use this method when you are not sure about the positions given while defining a function"
   ]
  },
  {
   "cell_type": "code",
   "execution_count": 20,
   "id": "f510c793",
   "metadata": {},
   "outputs": [
    {
     "name": "stdout",
     "output_type": "stream",
     "text": [
      "Please enter an int value\n",
      "25\n"
     ]
    }
   ],
   "source": [
    "## 3. What is the purpose of the return statement in a function? Can a function have multiple return statements? Explain with an example.\n",
    "\n",
    "## The purpose of the return statement is to return a printable and iterable value out of a function.\n",
    "## Yes, a function can have more than 1 return statements.\n",
    "def add(a,b):\n",
    "    if type(a)== int and type (b)== int:\n",
    "        return a+b\n",
    "    else:\n",
    "        return 'Please enter an int value'\n",
    "print(add('rain', 'bow'))\n",
    "print(add(10,15))"
   ]
  },
  {
   "cell_type": "code",
   "execution_count": 27,
   "id": "2da774ab",
   "metadata": {},
   "outputs": [
    {
     "name": "stdout",
     "output_type": "stream",
     "text": [
      "1\n",
      "2\n",
      "3\n",
      "4\n",
      "5\n",
      "6\n",
      "7\n",
      "8\n",
      "9\n",
      "[1, 2, 3, 4, 5, 6, 7, 8, 9]\n"
     ]
    }
   ],
   "source": [
    "## 4. What are lambda functions in Python? How are they different from regular functions? Provide an example where a lambda function can be useful.\n",
    "\n",
    "## Lambda funtions are basically a short form of writing a funtion, which helps to decrease the lines of codes (It needs only 1 line)\n",
    "## Examples:\n",
    "\n",
    "a= [1,2,3,4,5,6,7,8,9]\n",
    "# Regular for loop:\n",
    "for i in a:\n",
    "    print(i)\n",
    "\n",
    "# Lambda for loop\n",
    "print([i for i in a])"
   ]
  },
  {
   "cell_type": "markdown",
   "id": "b10abbed",
   "metadata": {},
   "source": [
    "## 5. How does the concept of \"scope\" apply to functions in Python? Explain the difference between local scope and global scope.\n",
    "\n",
    "### Scope in python is the region of the program where a variable is accessible.\n",
    "### Local scope is the assigning of variable inside a function, which means this varible will not operate outside the function.\n",
    "### Global scope is the assigning of variable outside any function, which means the variable will operate outside, as well as inside any function."
   ]
  },
  {
   "cell_type": "code",
   "execution_count": 33,
   "id": "bf6d6e7d",
   "metadata": {},
   "outputs": [
    {
     "data": {
      "text/plain": [
       "(1, 6464)"
      ]
     },
     "execution_count": 33,
     "metadata": {},
     "output_type": "execute_result"
    }
   ],
   "source": [
    "## 6. How can you use the \"return\" statement in a Python function to return multiple values?\n",
    "\n",
    "## To return multiple values in a funtion we can seperate values with a comma(,).\n",
    "l= [454,4,6464,41,5,1,8,51,7]\n",
    "def min_max(l):\n",
    "    min_val= min(l)\n",
    "    max_val= max(l)\n",
    "    return min_val,max_val\n",
    "min_max(l)"
   ]
  },
  {
   "cell_type": "markdown",
   "id": "ef720ae3",
   "metadata": {},
   "source": [
    "## 7. What is the difference between the \"pass by value\" and \"pass by reference\" concepts when it comes to function arguments in Python?\n",
    "\n",
    "### Python functions use pass by value, which means that when you pass an argument to a function, a copy of the argument is passed to the function. This means that any changes made to the argument inside the function will not affect the original argument outside of the function.\n",
    "\n",
    "### Pass by reference, on the other hand, is a programming concept where a reference to the original argument is passed to the function. This means that any changes made to the argument inside the function will also be reflected in the original argument outside of the function."
   ]
  },
  {
   "cell_type": "code",
   "execution_count": 47,
   "id": "08e8a1b7",
   "metadata": {},
   "outputs": [
    {
     "name": "stdout",
     "output_type": "stream",
     "text": [
      "6.907755278982137\n",
      "1024\n",
      "1024\n",
      "3.0\n"
     ]
    }
   ],
   "source": [
    "## 8. Create a function that can intake integer or decimal value and do following operations:\n",
    "\n",
    "## a. Logarithmic function (log x)\n",
    "def logn(x):\n",
    "    import math\n",
    "    if type(x) == int or type(x)== float:\n",
    "        return math.log(x)\n",
    "    else:\n",
    "        return \"Please enter an int or float value\"\n",
    "## b. Exponential function (exp(x))\n",
    "def expo(x,n):\n",
    "    if type(x)== int or type(x)== float:\n",
    "        if type(n)== int or type(n)== float:\n",
    "            return x**n\n",
    "        else:\n",
    "            return \"Please enter an int or float value\"\n",
    "    else:\n",
    "        return \"Please enter an int or float value\"\n",
    "## c. Power function with base 2 (2x)\n",
    "def power2(n):\n",
    "    if type(n)== int or type(n)== float:\n",
    "            return 2**n\n",
    "    else:\n",
    "        return \"Please enter an int or float value\"\n",
    "## d. Square Root\n",
    "def root(n):\n",
    "    import math\n",
    "    if type(n) == int or type(n)== float:\n",
    "        return math.sqrt(n)\n",
    "    else:\n",
    "        return \"Please enter an int or float value\"\n",
    "print(logn(1000))\n",
    "print(expo(2,10))\n",
    "print(power2(10))\n",
    "print(root(9))"
   ]
  },
  {
   "cell_type": "code",
   "execution_count": 55,
   "id": "46541ef5",
   "metadata": {},
   "outputs": [
    {
     "data": {
      "text/plain": [
       "'First name is Siddharth and last name is Daryani'"
      ]
     },
     "execution_count": 55,
     "metadata": {},
     "output_type": "execute_result"
    }
   ],
   "source": [
    "## 9. Create a function that takes a full name as an argument and returns first name and last name.\n",
    "def fullname(a):\n",
    "    l= a.split()\n",
    "    return f\"First name is {l[0]} and last name is {l[1]}\"\n",
    "fullname(\"Siddharth Daryani\")"
   ]
  }
 ],
 "metadata": {
  "kernelspec": {
   "display_name": "Python 3 (ipykernel)",
   "language": "python",
   "name": "python3"
  },
  "language_info": {
   "codemirror_mode": {
    "name": "ipython",
    "version": 3
   },
   "file_extension": ".py",
   "mimetype": "text/x-python",
   "name": "python",
   "nbconvert_exporter": "python",
   "pygments_lexer": "ipython3",
   "version": "3.11.3"
  }
 },
 "nbformat": 4,
 "nbformat_minor": 5
}
